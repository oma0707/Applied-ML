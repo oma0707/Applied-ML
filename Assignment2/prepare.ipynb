{
 "cells": [
  {
   "cell_type": "code",
   "execution_count": 1,
   "metadata": {},
   "outputs": [],
   "source": [
    "import pandas as pd\n",
    "from sklearn.model_selection import train_test_split\n",
    "import nltk\n",
    "from nltk.corpus import stopwords\n",
    "import string"
   ]
  },
  {
   "cell_type": "code",
   "execution_count": 2,
   "metadata": {},
   "outputs": [
    {
     "name": "stdout",
     "output_type": "stream",
     "text": [
      "C:\\CMI\\MSc\\SEM2\\AML\\Assignment2\n"
     ]
    }
   ],
   "source": [
    "cd \"C:/CMI/MSc/SEM2/AML/Assignment2\""
   ]
  },
  {
   "cell_type": "code",
   "execution_count": 3,
   "metadata": {},
   "outputs": [
    {
     "data": {
      "text/html": [
       "<div>\n",
       "<style scoped>\n",
       "    .dataframe tbody tr th:only-of-type {\n",
       "        vertical-align: middle;\n",
       "    }\n",
       "\n",
       "    .dataframe tbody tr th {\n",
       "        vertical-align: top;\n",
       "    }\n",
       "\n",
       "    .dataframe thead th {\n",
       "        text-align: right;\n",
       "    }\n",
       "</style>\n",
       "<table border=\"1\" class=\"dataframe\">\n",
       "  <thead>\n",
       "    <tr style=\"text-align: right;\">\n",
       "      <th></th>\n",
       "      <th>Email</th>\n",
       "      <th>Spam</th>\n",
       "    </tr>\n",
       "  </thead>\n",
       "  <tbody>\n",
       "    <tr>\n",
       "      <th>0</th>\n",
       "      <td>Subject: naturally irresistible your corporate...</td>\n",
       "      <td>1</td>\n",
       "    </tr>\n",
       "    <tr>\n",
       "      <th>1</th>\n",
       "      <td>Subject: the stock trading gunslinger  fanny i...</td>\n",
       "      <td>1</td>\n",
       "    </tr>\n",
       "    <tr>\n",
       "      <th>2</th>\n",
       "      <td>Subject: unbelievable new homes made easy  im ...</td>\n",
       "      <td>1</td>\n",
       "    </tr>\n",
       "    <tr>\n",
       "      <th>3</th>\n",
       "      <td>Subject: 4 color printing special  request add...</td>\n",
       "      <td>1</td>\n",
       "    </tr>\n",
       "    <tr>\n",
       "      <th>4</th>\n",
       "      <td>Subject: do not have money , get software cds ...</td>\n",
       "      <td>1</td>\n",
       "    </tr>\n",
       "  </tbody>\n",
       "</table>\n",
       "</div>"
      ],
      "text/plain": [
       "                                               Email  Spam\n",
       "0  Subject: naturally irresistible your corporate...     1\n",
       "1  Subject: the stock trading gunslinger  fanny i...     1\n",
       "2  Subject: unbelievable new homes made easy  im ...     1\n",
       "3  Subject: 4 color printing special  request add...     1\n",
       "4  Subject: do not have money , get software cds ...     1"
      ]
     },
     "execution_count": 3,
     "metadata": {},
     "output_type": "execute_result"
    }
   ],
   "source": [
    "data=pd.read_csv(\"emails.csv\", sep=',', header=0,names=[\"Email\",\"Spam\"])\n",
    "data.head()"
   ]
  },
  {
   "cell_type": "code",
   "execution_count": 4,
   "metadata": {},
   "outputs": [
    {
     "data": {
      "text/plain": [
       "0    4360\n",
       "1    1368\n",
       "Name: Spam, dtype: int64"
      ]
     },
     "execution_count": 4,
     "metadata": {},
     "output_type": "execute_result"
    }
   ],
   "source": [
    "data[\"Spam\"].value_counts()"
   ]
  },
  {
   "cell_type": "code",
   "execution_count": 5,
   "metadata": {},
   "outputs": [],
   "source": [
    "def preprocess_text(text):   # import raw txt data \n",
    "    text = text.lower()\n",
    "    words = nltk.word_tokenize(text)\n",
    "    meaningful_instances = []\n",
    "    \n",
    "    for i in words:\n",
    "        if i.isalnum() and i not in stopwords.words('english') and i not in string.punctuation:\n",
    "            meaningful_instances.append(i)        \n",
    "    final_text = []\n",
    "    \n",
    "    for i in meaningful_instances:\n",
    "        final_text.append(i)\n",
    "        \n",
    "    return \" \".join(final_text)\n",
    "\n",
    "data[\"transformed_text\"] = data[\"Email\"].map(preprocess_text)"
   ]
  },
  {
   "cell_type": "code",
   "execution_count": 34,
   "metadata": {},
   "outputs": [],
   "source": [
    "data_train, data_temp = train_test_split(data, test_size=0.3, random_state=2)\n",
    "data_val, data_test = train_test_split(data_temp, test_size=0.5, random_state=2)"
   ]
  },
  {
   "cell_type": "code",
   "execution_count": 35,
   "metadata": {},
   "outputs": [],
   "source": [
    "data.to_csv(\"raw_data.csv\", index= False)\n",
    "data_train.to_csv(\"train.csv\", index = False)\n",
    "data_test.to_csv(\"test.csv\", index = False)\n",
    "data_val.to_csv(\"validation.csv\", index = False)"
   ]
  },
  {
   "cell_type": "code",
   "execution_count": 36,
   "metadata": {},
   "outputs": [
    {
     "name": "stdout",
     "output_type": "stream",
     "text": [
      "Initialized DVC repository.\n",
      "\n",
      "You can now commit the changes to git.\n",
      "\n",
      "+---------------------------------------------------------------------+\n",
      "|                                                                     |\n",
      "|        DVC has enabled anonymous aggregate usage analytics.         |\n",
      "|     Read the analytics documentation (and how to opt-out) here:     |\n",
      "|             <https://dvc.org/doc/user-guide/analytics>              |\n",
      "|                                                                     |\n",
      "+---------------------------------------------------------------------+\n",
      "\n",
      "What's next?\n",
      "------------\n",
      "- Check out the documentation: <https://dvc.org/doc>\n",
      "- Get help and share ideas: <https://dvc.org/chat>\n",
      "- Star us on GitHub: <https://github.com/iterative/dvc>\n"
     ]
    }
   ],
   "source": [
    "! dvc init -f"
   ]
  },
  {
   "cell_type": "code",
   "execution_count": 37,
   "metadata": {},
   "outputs": [
    {
     "name": "stdout",
     "output_type": "stream",
     "text": [
      "On branch master\n",
      "Changes to be committed:\n",
      "  (use \"git restore --staged <file>...\" to unstage)\n",
      "\tmodified:   .dvc/config\n",
      "\tmodified:   validation.csv.dvc\n",
      "\n",
      "Untracked files:\n",
      "  (use \"git add <file>...\" to include in what will be committed)\n",
      "\temails.csv\n",
      "\tprepare.ipynb\n",
      "\n",
      "[master 9f7dfd3] initialised dvc\n",
      " 2 files changed, 2 insertions(+), 8 deletions(-)\n"
     ]
    }
   ],
   "source": [
    "!git status\n",
    "!git commit -m \"initialised dvc\""
   ]
  },
  {
   "cell_type": "code",
   "execution_count": 38,
   "metadata": {},
   "outputs": [],
   "source": [
    "!dvc config core.autostage true"
   ]
  },
  {
   "cell_type": "code",
   "execution_count": 39,
   "metadata": {},
   "outputs": [
    {
     "name": "stdout",
     "output_type": "stream",
     "text": [
      "Setting 'drive' as a default remote.\n"
     ]
    }
   ],
   "source": [
    "!dvc remote add --default drive gdrive://1AMoOB9ruCD59f4saVXTA9II1z5eaetJy"
   ]
  },
  {
   "cell_type": "code",
   "execution_count": 40,
   "metadata": {},
   "outputs": [],
   "source": [
    "!dvc remote modify drive gdrive_acknowledge_abuse true"
   ]
  },
  {
   "cell_type": "code",
   "execution_count": 41,
   "metadata": {},
   "outputs": [],
   "source": [
    "! git add .dvc/config"
   ]
  },
  {
   "cell_type": "code",
   "execution_count": 42,
   "metadata": {},
   "outputs": [
    {
     "name": "stdout",
     "output_type": "stream",
     "text": [
      "On branch master\n",
      "Changes to be committed:\n",
      "  (use \"git restore --staged <file>...\" to unstage)\n",
      "\tmodified:   .dvc/config\n",
      "\n",
      "Untracked files:\n",
      "  (use \"git add <file>...\" to include in what will be committed)\n",
      "\temails.csv\n",
      "\tprepare.ipynb\n",
      "\n",
      "[master bca236f] updated dvc config\n",
      " 1 file changed, 6 insertions(+)\n"
     ]
    }
   ],
   "source": [
    "!git status\n",
    "!git commit -m \"updated dvc config\""
   ]
  },
  {
   "cell_type": "code",
   "execution_count": 43,
   "metadata": {},
   "outputs": [
    {
     "name": "stderr",
     "output_type": "stream",
     "text": [
      "⠋ Checking graph\n",
      "\n"
     ]
    }
   ],
   "source": [
    "!dvc add raw_data.csv test.csv train.csv validation.csv"
   ]
  },
  {
   "cell_type": "code",
   "execution_count": 44,
   "metadata": {},
   "outputs": [
    {
     "name": "stdout",
     "output_type": "stream",
     "text": [
      "On branch master\n",
      "Changes to be committed:\n",
      "  (use \"git restore --staged <file>...\" to unstage)\n",
      "\tmodified:   test.csv.dvc\n",
      "\tmodified:   train.csv.dvc\n",
      "\tmodified:   validation.csv.dvc\n",
      "\n",
      "Untracked files:\n",
      "  (use \"git add <file>...\" to include in what will be committed)\n",
      "\temails.csv\n",
      "\tprepare.ipynb\n",
      "\n",
      "[master 87a86ab] enabled versioning data with dvc\n",
      " 3 files changed, 6 insertions(+), 6 deletions(-)\n"
     ]
    }
   ],
   "source": [
    "!git status\n",
    "!git add train.csv.dvc validation.csv.dvc test.csv.dvc raw_data.csv.dvc .gitignore\n",
    "!git commit -m \"enabled versioning data with dvc\""
   ]
  },
  {
   "cell_type": "code",
   "execution_count": 45,
   "metadata": {},
   "outputs": [
    {
     "name": "stdout",
     "output_type": "stream",
     "text": [
      "3 files pushed\n"
     ]
    }
   ],
   "source": [
    "!dvc push"
   ]
  },
  {
   "cell_type": "markdown",
   "metadata": {},
   "source": [
    "Updating splits with new random seed"
   ]
  },
  {
   "cell_type": "code",
   "execution_count": 46,
   "metadata": {},
   "outputs": [],
   "source": [
    "data_train, data_temp = train_test_split(data, test_size=0.3, random_state=123)\n",
    "data_val, data_test = train_test_split(data_temp, test_size=0.5, random_state=123)\n",
    "\n",
    "data_train.to_csv(\"train.csv\", index = False)\n",
    "data_test.to_csv(\"test.csv\", index = False)\n",
    "data_val.to_csv(\"validation.csv\", index = False)"
   ]
  },
  {
   "cell_type": "code",
   "execution_count": 47,
   "metadata": {},
   "outputs": [
    {
     "name": "stderr",
     "output_type": "stream",
     "text": [
      "⠋ Checking graph\n",
      "\n"
     ]
    }
   ],
   "source": [
    "!dvc add train.csv validation.csv test.csv"
   ]
  },
  {
   "cell_type": "code",
   "execution_count": 48,
   "metadata": {},
   "outputs": [
    {
     "name": "stdout",
     "output_type": "stream",
     "text": [
      "On branch master\n",
      "Changes to be committed:\n",
      "  (use \"git restore --staged <file>...\" to unstage)\n",
      "\tmodified:   test.csv.dvc\n",
      "\tmodified:   train.csv.dvc\n",
      "\tmodified:   validation.csv.dvc\n",
      "\n",
      "Untracked files:\n",
      "  (use \"git add <file>...\" to include in what will be committed)\n",
      "\temails.csv\n",
      "\tprepare.ipynb\n",
      "\n",
      "[master e7c581f] updated data splits with new random seed (123)\n",
      " 3 files changed, 6 insertions(+), 6 deletions(-)\n"
     ]
    }
   ],
   "source": [
    "!git add test.csv.dvc train.csv.dvc validation.csv.dvc\n",
    "!git status\n",
    "!git commit -m \"updated data splits with new random seed (123)\""
   ]
  },
  {
   "cell_type": "code",
   "execution_count": 49,
   "metadata": {},
   "outputs": [
    {
     "name": "stdout",
     "output_type": "stream",
     "text": [
      "Everything is up to date.\n"
     ]
    }
   ],
   "source": [
    "!dvc push"
   ]
  },
  {
   "cell_type": "code",
   "execution_count": 50,
   "metadata": {},
   "outputs": [
    {
     "name": "stdout",
     "output_type": "stream",
     "text": [
      "commit e7c581f37bb8c34b975bf6799d6bf0a84d65be89\n",
      "Author: Om Ambaye <ambaye.om@gmail.com>\n",
      "Date:   Tue Feb 20 23:35:20 2024 +0530\n",
      "\n",
      "    updated data splits with new random seed (123)\n",
      "\n",
      "commit 87a86ab1d087526f96c6cfd8df7d2e65a8d580cf\n",
      "Author: Om Ambaye <ambaye.om@gmail.com>\n",
      "Date:   Tue Feb 20 23:34:50 2024 +0530\n",
      "\n",
      "    enabled versioning data with dvc\n",
      "\n",
      "commit bca236fc2494a7a38c502916941ce8ff84d5a3df\n",
      "Author: Om Ambaye <ambaye.om@gmail.com>\n",
      "Date:   Tue Feb 20 23:34:47 2024 +0530\n",
      "\n",
      "    updated dvc config\n",
      "\n",
      "commit 9f7dfd346801efc3ca808d490d06857b3c04d447\n",
      "Author: Om Ambaye <ambaye.om@gmail.com>\n",
      "Date:   Tue Feb 20 23:34:43 2024 +0530\n",
      "\n",
      "    initialised dvc\n",
      "\n",
      "commit 38cf31dfde4fd2e6131110014f0826b412aa34d9\n",
      "Author: Om Ambaye <ambaye.om@gmail.com>\n",
      "Date:   Tue Feb 20 23:27:51 2024 +0530\n",
      "\n",
      "    updated data splits with new random seed (123)\n",
      "\n",
      "commit 1db3cbd28119a85fcae009db1fe20c82665d2a00\n",
      "Author: Om Ambaye <ambaye.om@gmail.com>\n",
      "Date:   Tue Feb 20 23:27:42 2024 +0530\n",
      "\n",
      "    updated dvc config\n",
      "\n",
      "commit 45261486e79b68427642585aebe1754bcb746b18\n",
      "Author: Om Ambaye <ambaye.om@gmail.com>\n",
      "Date:   Tue Feb 20 23:27:38 2024 +0530\n",
      "\n",
      "    initialised dvc\n",
      "\n",
      "commit 51bf7f688d5a1379f80b977d41a48fee6d93f842\n",
      "Author: Om Ambaye <ambaye.om@gmail.com>\n",
      "Date:   Tue Feb 20 23:15:05 2024 +0530\n",
      "\n",
      "    updated data splits with new random seed (123)\n",
      "\n",
      "commit a74879f9d882055317d83c6c754fd8e80db8a633\n",
      "Author: Om Ambaye <ambaye.om@gmail.com>\n",
      "Date:   Tue Feb 20 23:14:56 2024 +0530\n",
      "\n",
      "    updated dvc config\n",
      "\n",
      "commit 0b43e51b3cee83717f83bcca6d738e28d51b944e\n",
      "Author: Om Ambaye <ambaye.om@gmail.com>\n",
      "Date:   Tue Feb 20 23:14:52 2024 +0530\n",
      "\n",
      "    initialised dvc\n",
      "\n",
      "commit 256ee02ea488ebffd0745d2dab0661d399b11ee7\n",
      "Author: Om Ambaye <ambaye.om@gmail.com>\n",
      "Date:   Tue Feb 20 23:09:56 2024 +0530\n",
      "\n",
      "    ⚡ update: enabled versioning data with dvc\n",
      "\n",
      "commit 6d7698e21dd09cd3df1934fad46fd6263d6c7277\n",
      "Author: Om Ambaye <ambaye.om@gmail.com>\n",
      "Date:   Tue Feb 20 23:09:19 2024 +0530\n",
      "\n",
      "    updated dvc config\n",
      "\n",
      "commit 3f81de926e3db51fdbd15af8df9a06ec9c4b0b1d\n",
      "Author: Om Ambaye <ambaye.om@gmail.com>\n",
      "Date:   Tue Feb 20 23:09:16 2024 +0530\n",
      "\n",
      "    initialised dvc\n",
      "\n",
      "commit 4fd3602dff5b66e6c826d73d83602429e44d277d\n",
      "Author: Om Ambaye <ambaye.om@gmail.com>\n",
      "Date:   Tue Feb 20 23:08:06 2024 +0530\n",
      "\n",
      "    ⚡ update: updated dvc config\n",
      "\n",
      "commit 39c075e268f22a4b51a23a86e0c9b95cdb51be41\n",
      "Author: Om Ambaye <ambaye.om@gmail.com>\n",
      "Date:   Tue Feb 20 23:04:59 2024 +0530\n",
      "\n",
      "    initialised dvc\n",
      "\n",
      "commit 575baf0106465f3d80f0e833c21b2f59dc9d7927\n",
      "Author: Om Ambaye <ambaye.om@gmail.com>\n",
      "Date:   Tue Feb 20 22:58:29 2024 +0530\n",
      "\n",
      "    update: updated data splits with new random seed (123)\n",
      "\n",
      "commit ecedf57001e436507b4e0945270094e789752808\n",
      "Author: Om Ambaye <ambaye.om@gmail.com>\n",
      "Date:   Tue Feb 20 22:57:21 2024 +0530\n",
      "\n",
      "    update: updated data splits with new random seed (123)\n",
      "\n",
      "commit f9708fd9be743715dca16ee046f2ae0949de53de\n",
      "Author: Om Ambaye <ambaye.om@gmail.com>\n",
      "Date:   Tue Feb 20 18:13:39 2024 +0530\n",
      "\n",
      "    Configure our remote storage to be Google Drive\n",
      "\n",
      "commit c7b430603a6ddba1973e018eb264daaf64b50423\n",
      "Author: Om Ambaye <ambaye.om@gmail.com>\n",
      "Date:   Tue Feb 20 16:57:16 2024 +0530\n",
      "\n",
      "    Configure our remote storage to be Google Drive\n",
      "\n",
      "commit a953a739dadc5e35b0e693b5756af4895b2c4c21\n",
      "Author: Om Ambaye <ambaye.om@gmail.com>\n",
      "Date:   Tue Feb 20 16:45:56 2024 +0530\n",
      "\n",
      "    Configure our remote storage to be Google Drive\n",
      "\n",
      "commit 3cad735aff7a4f4297eced04d15b92cc67f00560\n",
      "Author: Om Ambaye <ambaye.om@gmail.com>\n",
      "Date:   Tue Feb 20 16:42:14 2024 +0530\n",
      "\n",
      "    Confirgure our remote storage to be Google Drive\n",
      "\n",
      "commit f61fa5b685c141050fd621fb05616ca22cab4b3f\n",
      "Author: Om Ambaye <ambaye.om@gmail.com>\n",
      "Date:   Tue Feb 20 16:05:35 2024 +0530\n",
      "\n",
      "    Confirgure our remote storage to be Google Drive\n"
     ]
    }
   ],
   "source": [
    "!git log"
   ]
  },
  {
   "cell_type": "markdown",
   "metadata": {},
   "source": [
    "Checking out original data"
   ]
  },
  {
   "cell_type": "code",
   "execution_count": 51,
   "metadata": {},
   "outputs": [
    {
     "name": "stderr",
     "output_type": "stream",
     "text": [
      "Updated 3 paths from eda06fe\n"
     ]
    }
   ],
   "source": [
    "!git checkout 87a86ab1d087526f96c6cfd8df7d2e65a8d580cf train.csv.dvc validation.csv.dvc test.csv.dvc"
   ]
  },
  {
   "cell_type": "code",
   "execution_count": 52,
   "metadata": {},
   "outputs": [
    {
     "name": "stdout",
     "output_type": "stream",
     "text": [
      "M       test.csv\n",
      "M       train.csv\n",
      "M       validation.csv\n"
     ]
    }
   ],
   "source": [
    "!dvc checkout"
   ]
  },
  {
   "cell_type": "code",
   "execution_count": 53,
   "metadata": {},
   "outputs": [],
   "source": [
    "data_train=pd.read_csv(\"train.csv\",sep=',', header=0)\n",
    "data_test=pd.read_csv(\"test.csv\",sep=',', header=0)\n",
    "data_val=pd.read_csv(\"validation.csv\", sep=',', header=0)"
   ]
  },
  {
   "cell_type": "code",
   "execution_count": 54,
   "metadata": {},
   "outputs": [
    {
     "name": "stdout",
     "output_type": "stream",
     "text": [
      "For Training Data:\n",
      "0    3059\n",
      "1     950\n",
      "Name: Spam, dtype: int64\n",
      "For Test Data:\n",
      "0    660\n",
      "1    200\n",
      "Name: Spam, dtype: int64\n",
      "For Validation Data:\n",
      "0    641\n",
      "1    218\n",
      "Name: Spam, dtype: int64\n"
     ]
    }
   ],
   "source": [
    "print(\"For Training Data:\")\n",
    "print(data_train[\"Spam\"].value_counts())\n",
    "print(\"For Test Data:\")\n",
    "print(data_test[\"Spam\"].value_counts())\n",
    "print(\"For Validation Data:\")\n",
    "print(data_val[\"Spam\"].value_counts())\n"
   ]
  },
  {
   "cell_type": "markdown",
   "metadata": {},
   "source": [
    "Checking out the updated data with a different seed"
   ]
  },
  {
   "cell_type": "code",
   "execution_count": 55,
   "metadata": {},
   "outputs": [
    {
     "name": "stderr",
     "output_type": "stream",
     "text": [
      "Updated 3 paths from 58e769a\n"
     ]
    }
   ],
   "source": [
    "!git checkout e7c581f37bb8c34b975bf6799d6bf0a84d65be89 train.csv.dvc validation.csv.dvc test.csv.dvc"
   ]
  },
  {
   "cell_type": "code",
   "execution_count": 56,
   "metadata": {},
   "outputs": [
    {
     "name": "stdout",
     "output_type": "stream",
     "text": [
      "M       test.csv\n",
      "M       train.csv\n",
      "M       validation.csv\n"
     ]
    }
   ],
   "source": [
    "!dvc checkout"
   ]
  },
  {
   "cell_type": "code",
   "execution_count": 57,
   "metadata": {},
   "outputs": [],
   "source": [
    "data_train=pd.read_csv(\"train.csv\",sep=',', header=0)\n",
    "data_test=pd.read_csv(\"test.csv\",sep=',', header=0)\n",
    "data_val=pd.read_csv(\"validation.csv\", sep=',', header=0)"
   ]
  },
  {
   "cell_type": "code",
   "execution_count": 58,
   "metadata": {},
   "outputs": [
    {
     "name": "stdout",
     "output_type": "stream",
     "text": [
      "For Training Data:\n",
      "0    3041\n",
      "1     968\n",
      "Name: Spam, dtype: int64\n",
      "For Test Data:\n",
      "0    665\n",
      "1    195\n",
      "Name: Spam, dtype: int64\n",
      "For Validation Data:\n",
      "0    654\n",
      "1    205\n",
      "Name: Spam, dtype: int64\n"
     ]
    }
   ],
   "source": [
    "print(\"For Training Data:\")\n",
    "print(data_train[\"Spam\"].value_counts())\n",
    "print(\"For Test Data:\")\n",
    "print(data_test[\"Spam\"].value_counts())\n",
    "print(\"For Validation Data:\")\n",
    "print(data_val[\"Spam\"].value_counts())\n"
   ]
  }
 ],
 "metadata": {
  "kernelspec": {
   "display_name": "Python 3",
   "language": "python",
   "name": "python3"
  },
  "language_info": {
   "codemirror_mode": {
    "name": "ipython",
    "version": 3
   },
   "file_extension": ".py",
   "mimetype": "text/x-python",
   "name": "python",
   "nbconvert_exporter": "python",
   "pygments_lexer": "ipython3",
   "version": "3.11.1"
  }
 },
 "nbformat": 4,
 "nbformat_minor": 2
}
