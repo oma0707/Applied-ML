{
 "cells": [
  {
   "cell_type": "code",
   "execution_count": 1,
   "metadata": {},
   "outputs": [],
   "source": [
    "import pandas as pd\n",
    "import scipy\n",
    "from sklearn.feature_extraction.text import TfidfVectorizer\n",
    "from sklearn.linear_model import LogisticRegression\n",
    "from sklearn.pipeline import Pipeline\n",
    "from sklearn.metrics import average_precision_score, classification_report, ConfusionMatrixDisplay, confusion_matrix, accuracy_score, precision_recall_curve, auc\n",
    "from sklearn.naive_bayes import MultinomialNB\n",
    "import mlflow\n",
    "from urllib.parse import urlparse\n",
    "import numpy as np\n",
    "from sklearn.svm import SVC\n",
    "import mlflow\n",
    "from mlflow.tracking import MlflowClient\n",
    "from xgboost import XGBClassifier\n",
    "from sklearn.tree import DecisionTreeClassifier\n",
    "\n",
    "import json\n",
    "import warnings\n",
    "\n",
    "warnings.simplefilter(\"ignore\")"
   ]
  },
  {
   "cell_type": "code",
   "execution_count": 2,
   "metadata": {},
   "outputs": [],
   "source": [
    "# Loading the datasets\n",
    "train = pd.read_csv(\"train.csv\")\n",
    "train_X, train_y = train.transformed_text, train.Spam\n",
    "\n",
    "test = pd.read_csv(\"test.csv\")\n",
    "test_X, test_y = test.transformed_text, test.Spam\n",
    "\n",
    "val = pd.read_csv(\"validation.csv\")\n",
    "val_X, val_y = val.transformed_text, val.Spam"
   ]
  },
  {
   "cell_type": "code",
   "execution_count": 3,
   "metadata": {},
   "outputs": [],
   "source": [
    "def eval_metrics(actual_y, pred_y):\n",
    "    precision, recall, _ = precision_recall_curve(actual_y, pred_y)\n",
    "    return auc(recall, precision)"
   ]
  },
  {
   "cell_type": "code",
   "execution_count": 4,
   "metadata": {},
   "outputs": [],
   "source": [
    "def training_and_benchmarking_with_mlflow(model, model_name, train_X=train_X, train_y=train_y, val_X=val_X, val_y=val_y, test_X=test_X, test_y=test_y):\n",
    "    #Trains and benchmarks model\n",
    "    print(f\"\\nTraining and Evaluating {model_name}:\\n\")\n",
    "    \n",
    "    pipeline = Pipeline([\n",
    "        ('tfidf', TfidfVectorizer(max_features=2000)),\n",
    "        ('clf', model),\n",
    "    ])\n",
    "\n",
    "    pipeline.fit(train_X, train_y)\n",
    "\n",
    "    train_score = pipeline.score(train_X, train_y)\n",
    "    validation_score = pipeline.score(val_X, val_y)\n",
    "\n",
    "    print(f'Training Accuracy: {train_score}')\n",
    "    print(f'Validation Accuracy: {validation_score}')\n",
    "\n",
    "    y_pred = pipeline.predict(test_X)\n",
    "    aucpr = eval_metrics(test_y, y_pred)\n",
    "    acc = accuracy_score(test_y, y_pred)\n",
    "    conf = confusion_matrix(test_y, y_pred)\n",
    "\n",
    "    with mlflow.start_run(run_name=f\"{model_name}\"):\n",
    "        mlflow.log_param(\"tfidf__max_features\", 2000)\n",
    "        mlflow.log_metric(\"accuracy\", acc)\n",
    "        mlflow.log_metric(\"AUCPR\",aucpr)\n",
    "        mlflow.log_dict(np.array(conf).tolist(), \"confusion_matrix.json\")\n",
    "        mlflow.sklearn.log_model(pipeline, \"model\")\n",
    "\n",
    "        print(\"\\nModel (tfidf__max_features={:f}):\".format(2000))\n",
    "        print(f\"Accuracy: {acc}\")\n",
    "        print(f\"AUCPR: {aucpr} \")\n",
    "        print(f\"Confusion Matrix:\\n {conf} \\n \\n\")\n",
    "\n",
    "        tracking_url_type_store = urlparse(mlflow.get_tracking_uri()).scheme\n",
    "        mlflow.sklearn.log_model(\n",
    "            sk_model=pipeline,\n",
    "            artifact_path=\"sklearn-model\",\n",
    "            registered_model_name=f\"{model_name}-classification-model\"\n",
    "        )\n",
    "        if tracking_url_type_store != \"file\":\n",
    "            mlflow.sklearn.log_model(pipeline, \"model\", registered_model_name=f\"{model_name}\")\n",
    "        else:\n",
    "            mlflow.sklearn.log_model(pipeline, \"model\")\n",
    "\n"
   ]
  },
  {
   "cell_type": "code",
   "execution_count": 5,
   "metadata": {},
   "outputs": [],
   "source": [
    "# Defining models\n",
    "LR=LogisticRegression(random_state=42, max_iter=2000)\n",
    "NB=MultinomialNB()\n",
    "SVM=SVC(random_state=42, probability=True)"
   ]
  },
  {
   "cell_type": "code",
   "execution_count": 6,
   "metadata": {},
   "outputs": [],
   "source": [
    "mlflow.set_tracking_uri(\"http://localhost:5000\")"
   ]
  },
  {
   "cell_type": "code",
   "execution_count": 7,
   "metadata": {},
   "outputs": [
    {
     "name": "stdout",
     "output_type": "stream",
     "text": [
      "\n",
      "Training and Evaluating Naive Bayes:\n",
      "\n",
      "Training Accuracy: 0.9812920927912198\n",
      "Validation Accuracy: 0.9755529685681025\n",
      "\n",
      "Model (tfidf__max_features=2000.000000):\n",
      "Accuracy: 0.986046511627907\n",
      "AUCPR: 0.9727191413237926 \n",
      "Confusion Matrix:\n",
      " [[659   6]\n",
      " [  6 189]] \n",
      " \n",
      "\n"
     ]
    },
    {
     "name": "stderr",
     "output_type": "stream",
     "text": [
      "Registered model 'Naive Bayes-classification-model' already exists. Creating a new version of this model...\n",
      "2024/02/23 15:31:38 INFO mlflow.store.model_registry.abstract_store: Waiting up to 300 seconds for model version to finish creation. Model name: Naive Bayes-classification-model, version 2\n",
      "Created version '2' of model 'Naive Bayes-classification-model'.\n",
      "Registered model 'Naive Bayes' already exists. Creating a new version of this model...\n",
      "2024/02/23 15:31:42 INFO mlflow.store.model_registry.abstract_store: Waiting up to 300 seconds for model version to finish creation. Model name: Naive Bayes, version 2\n",
      "Created version '2' of model 'Naive Bayes'.\n"
     ]
    }
   ],
   "source": [
    "training_and_benchmarking_with_mlflow(NB, \"Naive Bayes\")"
   ]
  },
  {
   "cell_type": "code",
   "execution_count": 8,
   "metadata": {},
   "outputs": [
    {
     "name": "stdout",
     "output_type": "stream",
     "text": [
      "\n",
      "Training and Evaluating Logistic Regression:\n",
      "\n",
      "Training Accuracy: 0.9942629084559741\n",
      "Validation Accuracy: 0.9778812572759022\n",
      "\n",
      "Model (tfidf__max_features=2000.000000):\n",
      "Accuracy: 0.9918604651162791\n",
      "AUCPR: 0.9854721777610395 \n",
      "Confusion Matrix:\n",
      " [[664   1]\n",
      " [  6 189]] \n",
      " \n",
      "\n"
     ]
    },
    {
     "name": "stderr",
     "output_type": "stream",
     "text": [
      "Registered model 'Logistic Regression-classification-model' already exists. Creating a new version of this model...\n",
      "2024/02/23 15:31:52 INFO mlflow.store.model_registry.abstract_store: Waiting up to 300 seconds for model version to finish creation. Model name: Logistic Regression-classification-model, version 2\n",
      "Created version '2' of model 'Logistic Regression-classification-model'.\n",
      "Registered model 'Logistic Regression' already exists. Creating a new version of this model...\n",
      "2024/02/23 15:31:56 INFO mlflow.store.model_registry.abstract_store: Waiting up to 300 seconds for model version to finish creation. Model name: Logistic Regression, version 2\n",
      "Created version '2' of model 'Logistic Regression'.\n"
     ]
    }
   ],
   "source": [
    "training_and_benchmarking_with_mlflow(LR,\"Logistic Regression\")"
   ]
  },
  {
   "cell_type": "code",
   "execution_count": 9,
   "metadata": {},
   "outputs": [
    {
     "name": "stdout",
     "output_type": "stream",
     "text": [
      "\n",
      "Training and Evaluating Support Vector Machine:\n",
      "\n",
      "Training Accuracy: 0.9995011224744326\n",
      "Validation Accuracy: 0.9848661233993015\n",
      "\n",
      "Model (tfidf__max_features=2000.000000):\n",
      "Accuracy: 0.9941860465116279\n",
      "AUCPR: 0.9888972391789462 \n",
      "Confusion Matrix:\n",
      " [[663   2]\n",
      " [  3 192]] \n",
      " \n",
      "\n"
     ]
    },
    {
     "name": "stderr",
     "output_type": "stream",
     "text": [
      "Registered model 'Support Vector Machine-classification-model' already exists. Creating a new version of this model...\n",
      "2024/02/23 15:32:30 INFO mlflow.store.model_registry.abstract_store: Waiting up to 300 seconds for model version to finish creation. Model name: Support Vector Machine-classification-model, version 2\n",
      "Created version '2' of model 'Support Vector Machine-classification-model'.\n",
      "Registered model 'Support Vector Machine' already exists. Creating a new version of this model...\n",
      "2024/02/23 15:32:34 INFO mlflow.store.model_registry.abstract_store: Waiting up to 300 seconds for model version to finish creation. Model name: Support Vector Machine, version 2\n",
      "Created version '2' of model 'Support Vector Machine'.\n"
     ]
    }
   ],
   "source": [
    "training_and_benchmarking_with_mlflow(SVM,\"Support Vector Machine\")"
   ]
  },
  {
   "cell_type": "markdown",
   "metadata": {},
   "source": [
    "Support Vector Machine gives us the highest Accuracy and AUCPR score and is hence the best choice of model for this experiment.\n"
   ]
  }
 ],
 "metadata": {
  "kernelspec": {
   "display_name": "Python 3",
   "language": "python",
   "name": "python3"
  },
  "language_info": {
   "codemirror_mode": {
    "name": "ipython",
    "version": 3
   },
   "file_extension": ".py",
   "mimetype": "text/x-python",
   "name": "python",
   "nbconvert_exporter": "python",
   "pygments_lexer": "ipython3",
   "version": "3.11.1"
  }
 },
 "nbformat": 4,
 "nbformat_minor": 2
}
